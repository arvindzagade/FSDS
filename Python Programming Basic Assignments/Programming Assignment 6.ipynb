{
 "cells": [
  {
   "cell_type": "markdown",
   "metadata": {},
   "source": [
    "1.\tWrite a Python Program to Display Fibonacci Sequence Using Recursion?"
   ]
  },
  {
   "cell_type": "markdown",
   "metadata": {},
   "source": [
    "What is fibbonacci series\n",
    "\n",
    "new no. is addition of previous two numbers"
   ]
  },
  {
   "cell_type": "markdown",
   "metadata": {},
   "source": [
    "number = int(input('Enter the no. till you want fibbonacci calculation: '))\n",
    "\n",
    "\n",
    "n1,n2 = 0,1\n",
    "\n",
    "count = 0\n",
    "## checking if number is valid:\n",
    "\n",
    "if number<=0:\n",
    "    print('Provide number greater than 0')\n",
    "\n",
    "elif number == 1:\n",
    "    print(f'Fibbonacci for {number} sequence is ',n1)\n",
    "    \n",
    "else:\n",
    "    print('Fibbonacci Sequence')\n",
    "    \n",
    "    while count < number:\n",
    "        print(n1)\n",
    "        new = n1 + n2\n",
    "        \n",
    "        n1 = n2\n",
    "        n2 = new\n",
    "        count = count + 1"
   ]
  },
  {
   "cell_type": "code",
   "execution_count": 1,
   "metadata": {},
   "outputs": [
    {
     "name": "stdout",
     "output_type": "stream",
     "text": [
      "Enter a number: 10\n",
      "1\n",
      "2\n",
      "3\n",
      "5\n",
      "8\n",
      "13\n",
      "21\n",
      "34\n",
      "Final Fibbonnacci value is : 34\n"
     ]
    }
   ],
   "source": [
    "number = int(input('Enter a number: '))\n",
    "\n",
    "n1,n2 = 0,1\n",
    "\n",
    "if number == 1:\n",
    "    print(f'Fibbonacci value is : {n1}')\n",
    "elif number <=0:\n",
    "    print('provide number greater than 0')\n",
    "    \n",
    "else: \n",
    "    for num in range(2,number):\n",
    "\n",
    "        new = n1 + n2 ## addition of two numbers\n",
    "\n",
    "        n1 = n2 ## replacing the numbers\n",
    "        n2 = new ## replacing the numbers\n",
    "\n",
    "        print(n2)\n",
    "    \n",
    "print('Final Fibbonnacci value is :', n2)\n",
    "    "
   ]
  },
  {
   "cell_type": "markdown",
   "metadata": {},
   "source": [
    "2.\tWrite a Python Program to Find Factorial of Number Using Recursion?"
   ]
  },
  {
   "cell_type": "code",
   "execution_count": 2,
   "metadata": {},
   "outputs": [
    {
     "name": "stdout",
     "output_type": "stream",
     "text": [
      "Enter a number: 5\n",
      "120\n"
     ]
    }
   ],
   "source": [
    "number = int(input('Enter a number: '))\n",
    "\n",
    "factorial = 1\n",
    "for item in range(2,number +1):\n",
    "    \n",
    "    factorial  = factorial * item\n",
    "    \n",
    "print(factorial)\n",
    "    \n",
    "    "
   ]
  },
  {
   "cell_type": "markdown",
   "metadata": {},
   "source": [
    "3.\tWrite a Python Program to calculate your Body Mass Index?"
   ]
  },
  {
   "cell_type": "code",
   "execution_count": 3,
   "metadata": {},
   "outputs": [
    {
     "name": "stdout",
     "output_type": "stream",
     "text": [
      "Enter your weight in kg: 55\n",
      "Enter your height in cm : 172\n",
      "Your BMI is 18.59,You are healthy\n"
     ]
    }
   ],
   "source": [
    "weight = int(input('Enter your weight in kg: '))\n",
    "height = int(input('Enter your height in cm : '))\n",
    "\n",
    "BMI = float(weight / (height/100)**2)\n",
    "\n",
    "if BMI <=18.5:\n",
    "    print(f'Your BMI is {BMI:.2f},You are underweight')\n",
    "elif BMI > 18.5 and BMI <=24.5:\n",
    "    print(f'Your BMI is {BMI:.2f},You are healthy')\n",
    "elif BMI>24.5  and BMI <=29.5:\n",
    "    print(f'Your BMI is {BMI:.2f},You are overweight')\n",
    "else:\n",
    "    print(f'Your BMI is {BMI:.2f},You are obese')"
   ]
  },
  {
   "cell_type": "markdown",
   "metadata": {},
   "source": [
    "4.\tWrite a Python Program to calculate the natural logarithm of any number?"
   ]
  },
  {
   "cell_type": "code",
   "execution_count": 4,
   "metadata": {},
   "outputs": [
    {
     "name": "stdout",
     "output_type": "stream",
     "text": [
      "enter a number: 10\n",
      "Log of num is 2.30\n"
     ]
    }
   ],
   "source": [
    "import math\n",
    "\n",
    "num = int(input('enter a number: '))\n",
    "\n",
    "log = math.log(num)\n",
    "\n",
    "print(f'Log of num is {log:.2f}')"
   ]
  },
  {
   "cell_type": "markdown",
   "metadata": {},
   "source": [
    "5.\tWrite a Python Program for cube sum of first n natural numbers?"
   ]
  },
  {
   "cell_type": "code",
   "execution_count": 5,
   "metadata": {},
   "outputs": [
    {
     "name": "stdout",
     "output_type": "stream",
     "text": [
      "Please enter a number: 4\n"
     ]
    },
    {
     "data": {
      "text/plain": [
       "100"
      ]
     },
     "execution_count": 5,
     "metadata": {},
     "output_type": "execute_result"
    }
   ],
   "source": [
    "\n",
    "\n",
    "def cubesum(num):\n",
    "    \n",
    "    sum = 0\n",
    "    for i in range(1,num+1):\n",
    "        \n",
    "        sum += i*i*i\n",
    "        \n",
    "    return sum\n",
    "\n",
    "num = int(input('Please enter a number: '))    \n",
    "cubesum(num)  \n"
   ]
  },
  {
   "cell_type": "raw",
   "metadata": {},
   "source": []
  }
 ],
 "metadata": {
  "kernelspec": {
   "display_name": "Python 3",
   "language": "python",
   "name": "python3"
  },
  "language_info": {
   "codemirror_mode": {
    "name": "ipython",
    "version": 3
   },
   "file_extension": ".py",
   "mimetype": "text/x-python",
   "name": "python",
   "nbconvert_exporter": "python",
   "pygments_lexer": "ipython3",
   "version": "3.8.3"
  }
 },
 "nbformat": 4,
 "nbformat_minor": 4
}
