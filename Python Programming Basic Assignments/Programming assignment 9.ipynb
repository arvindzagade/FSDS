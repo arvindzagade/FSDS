{
 "cells": [
  {
   "cell_type": "markdown",
   "metadata": {},
   "source": [
    "1.\tWrite a Python program to check if the given number is a Disarium Number?"
   ]
  },
  {
   "cell_type": "code",
   "execution_count": 1,
   "metadata": {},
   "outputs": [
    {
     "name": "stdout",
     "output_type": "stream",
     "text": [
      "Enter a number: 89\n",
      "89 is Disarum number\n"
     ]
    }
   ],
   "source": [
    "\n",
    "def disarium(num):\n",
    "    rem = 0\n",
    "    s = 0\n",
    "    length = len(str(num))\n",
    "\n",
    "    n = num\n",
    "\n",
    "    while(num >0):\n",
    "\n",
    "        rem = num %10\n",
    "        s = s+int(rem**length)\n",
    "        num = num//10\n",
    "        length = length - 1\n",
    "    \n",
    "\n",
    "    if (s == n):\n",
    "        print(f'{n} is Disarum number')\n",
    "\n",
    "    else:\n",
    "        print(f'{n} It is not a Disarum Number')\n",
    "\n",
    "\n",
    "num = int(input('Enter a number: '))\n",
    "disarium(num)"
   ]
  },
  {
   "cell_type": "markdown",
   "metadata": {},
   "source": [
    "\n",
    "2.\tWrite a Python program to print all disarium numbers between 1 to 100?"
   ]
  },
  {
   "cell_type": "code",
   "execution_count": 7,
   "metadata": {},
   "outputs": [
    {
     "name": "stdout",
     "output_type": "stream",
     "text": [
      "Disarium numbers between 1 and 100 are\n",
      "1\n",
      "2\n",
      "3\n",
      "4\n",
      "5\n",
      "6\n",
      "7\n",
      "8\n",
      "9\n",
      "89\n"
     ]
    }
   ],
   "source": [
    "#calculateLength() will count the digits present in a number\n",
    "def calculateLength(n):\n",
    "    length = 0;\n",
    "    while(n != 0):\n",
    "        length = length + 1\n",
    "        n = n//10\n",
    "    return length\n",
    " \n",
    "#sumOfDigits() will calculates the sum of digits powered with their respective position\n",
    "def sumOfDigits(num):\n",
    "    rem = total = 0\n",
    "    len = calculateLength(num)\n",
    "    \n",
    "    while(num > 0):\n",
    "        rem = num%10\n",
    "        total = total + (rem**len)\n",
    "        num = num//10\n",
    "        len = len - 1\n",
    "    return total;\n",
    "  \n",
    "result = 0;\n",
    " \n",
    "#Displays all disarium numbers between 1 and 100\n",
    "print(\"Disarium numbers between 1 and 100 are\");\n",
    "for i in range(1, 101):\n",
    "    result = sumOfDigits(i)\n",
    "    \n",
    "    if(result == i):\n",
    "        print(i)"
   ]
  },
  {
   "cell_type": "markdown",
   "metadata": {},
   "source": [
    "3.\tWrite a Python program to check if the given number is Happy Number?"
   ]
  },
  {
   "cell_type": "code",
   "execution_count": 14,
   "metadata": {},
   "outputs": [
    {
     "name": "stdout",
     "output_type": "stream",
     "text": [
      "365\n",
      "happy number\n"
     ]
    }
   ],
   "source": [
    "def isHappy(n):    \n",
    "    r = s = 0;    \n",
    "    while(n > 0):    \n",
    "        r = n%10    \n",
    "        s += r**2  \n",
    "        n //= 10    \n",
    "    return s  \n",
    "        \n",
    "n = int(input())    \n",
    "res = n;    \n",
    "     \n",
    "while(res != 1 and res != 4):    \n",
    "    res = isHappy(res)    \n",
    "     \n",
    "if(res == 1):    \n",
    "    print(\"happy number\")\n",
    "elif(res == 4):    \n",
    "    print(\"not a happy number\")  "
   ]
  },
  {
   "cell_type": "code",
   "execution_count": 17,
   "metadata": {},
   "outputs": [
    {
     "name": "stdout",
     "output_type": "stream",
     "text": [
      "Please provide a number19\n",
      "19 is a Happy Number\n"
     ]
    }
   ],
   "source": [
    "def isHappy(n):\n",
    "    \n",
    "    reminder=0\n",
    "    total = 0\n",
    "    \n",
    "    while n>0:\n",
    "        reminder = n %10  ## taking reminder\n",
    "        total = total + reminder**2 # calculating the sum\n",
    "        n = n//10 # dividing num\n",
    "        \n",
    "    return total\n",
    "\n",
    "n = int(input('Please provide a number'))\n",
    "res = n\n",
    "\n",
    "while (res!=1 and res!=4):\n",
    "    res = isHappy(res)\n",
    "    \n",
    "    \n",
    "if res == 1:\n",
    "    print(f'{n} is a Happy Number')\n",
    "    \n",
    "elif(res==4):\n",
    "    print(f'{n} is Not a happy number')"
   ]
  },
  {
   "cell_type": "markdown",
   "metadata": {},
   "source": [
    "4.\tWrite a Python program to print all happy numbers between 1 and 100?"
   ]
  },
  {
   "cell_type": "code",
   "execution_count": 26,
   "metadata": {},
   "outputs": [
    {
     "name": "stdout",
     "output_type": "stream",
     "text": [
      "The Happy numbers in range of 1 to 101 are:  \n",
      "1 7 10 13 19 23 28 31 32 44 49 68 70 79 82 86 91 94 97 100 "
     ]
    }
   ],
   "source": [
    "def isHappy(n):\n",
    "    \n",
    "    reminder=0\n",
    "    total = 0\n",
    "    \n",
    "    while n>0:\n",
    "        reminder = n %10  ## taking reminder\n",
    "        total = total + reminder**2 # calculating the sum\n",
    "        n = n//10 # dividing num\n",
    "        \n",
    "    return total\n",
    "\n",
    "# n = int(input('Please provide a number'))\n",
    "# res = n\n",
    "\n",
    "\n",
    "print('The Happy numbers in range of 1 to 101 are:  ')    \n",
    "for i in range(1,101):\n",
    "    res = i\n",
    "    \n",
    "    while (res!=1 and res!=4):\n",
    "        res = isHappy(res)\n",
    "    \n",
    "    \n",
    "    if res == 1:\n",
    "        \n",
    "        print(i,end=' ')"
   ]
  },
  {
   "cell_type": "markdown",
   "metadata": {},
   "source": [
    "5.\tWrite a Python program to determine whether the given number is a Harshad Number?"
   ]
  },
  {
   "cell_type": "code",
   "execution_count": 31,
   "metadata": {},
   "outputs": [
    {
     "name": "stdout",
     "output_type": "stream",
     "text": [
      "Enter number: 156\n",
      "156 is Harshad Number\n"
     ]
    }
   ],
   "source": [
    "# Harshad Number\n",
    "\n",
    "# Reading number\n",
    "number = int(input('Enter number: '))\n",
    "\n",
    "# Making copy of number for later use\n",
    "copy = number\n",
    "\n",
    "# Finding sum of digit\n",
    "digit_sum = 0\n",
    "\n",
    "while number >0:\n",
    "    digit_sum += number%10\n",
    "    number //= 10\n",
    "\n",
    "# Checking divisibility & making decision\n",
    "if copy%digit_sum == 0:\n",
    "    print('%d is Harshad Number' % (copy))\n",
    "else:\n",
    "    print('%d is Not Harshad Number' % (copy))"
   ]
  },
  {
   "cell_type": "markdown",
   "metadata": {},
   "source": [
    "6.\tWrite a Python program to print all pronic numbers between 1 and 100?"
   ]
  },
  {
   "cell_type": "code",
   "execution_count": 33,
   "metadata": {},
   "outputs": [
    {
     "name": "stdout",
     "output_type": "stream",
     "text": [
      "Pronic numbers between 1 and 100: \n",
      "2 6 12 20 30 42 56 72 90 "
     ]
    }
   ],
   "source": [
    "\n",
    "def isPronicNumber(num):\n",
    "    flag = False\n",
    "    \n",
    "    for i in range(1, num+1):\n",
    "        #Checking  for pronic number by multiplying consecutive numbers \n",
    "        \n",
    "        if((i*(i+1)) == num):\n",
    "            flag = True;\n",
    "            break\n",
    "    return flag\n",
    "\n",
    "#Displays pronic numbers between 1 and 100  \n",
    "print(\"Pronic numbers between 1 and 100: \")\n",
    "for i in range(1, 101):\n",
    "    if(isPronicNumber(i)):\n",
    "        print(i,end= \" \"),\n",
    "        "
   ]
  },
  {
   "cell_type": "code",
   "execution_count": null,
   "metadata": {},
   "outputs": [],
   "source": []
  }
 ],
 "metadata": {
  "kernelspec": {
   "display_name": "Python 3",
   "language": "python",
   "name": "python3"
  },
  "language_info": {
   "codemirror_mode": {
    "name": "ipython",
    "version": 3
   },
   "file_extension": ".py",
   "mimetype": "text/x-python",
   "name": "python",
   "nbconvert_exporter": "python",
   "pygments_lexer": "ipython3",
   "version": "3.8.3"
  }
 },
 "nbformat": 4,
 "nbformat_minor": 4
}
