{
 "cells": [
  {
   "cell_type": "markdown",
   "metadata": {},
   "source": [
    "## 1.\tWrite a Python program to print \"Hello Python\"?"
   ]
  },
  {
   "cell_type": "code",
   "execution_count": 1,
   "metadata": {},
   "outputs": [
    {
     "name": "stdout",
     "output_type": "stream",
     "text": [
      "Enter a text: Hello Python\n",
      "Hello Python\n"
     ]
    }
   ],
   "source": [
    "user_input = input('Enter a text: ')\n",
    "print(user_input)"
   ]
  },
  {
   "cell_type": "markdown",
   "metadata": {},
   "source": [
    "## 2.\tWrite a Python program to do arithmetical operations addition and division.?"
   ]
  },
  {
   "cell_type": "code",
   "execution_count": 2,
   "metadata": {},
   "outputs": [
    {
     "name": "stdout",
     "output_type": "stream",
     "text": [
      "Enter first number: 569\n",
      "Enter second number: 656\n",
      "Enter a operation: Addition, Subtraction, Multiplication ,Division: div\n",
      "Division is : 0.87\n"
     ]
    }
   ],
   "source": [
    "first = int(input('Enter first number: '))\n",
    "second =  int(input ('Enter second number: '))\n",
    "\n",
    "operation = input('Enter a operation: Addition, Subtraction, Multiplication ,Division: ').lower()\n",
    "\n",
    "\n",
    "if operation == 'addition' or operation =='add':\n",
    "    c = first + second\n",
    "    print(f'Addition is : {c:.2f}')\n",
    "    \n",
    "elif operation == 'subtraction' or operation =='sub':\n",
    "    c = first - second\n",
    "    print(f'Subraction is : {c:.2f}')\n",
    "    \n",
    "elif operation == 'multiplication' or operation =='mul':\n",
    "    c = first * second\n",
    "    print(f'Multiplication is : {c:.2f}')\n",
    "    \n",
    "elif operation == 'division' or operation =='div':\n",
    "    c = first / second\n",
    "    print(f'Division is : {c:.2f}')\n",
    "    \n",
    "else:\n",
    "    print('Plese selection from given operations')\n",
    "    \n",
    "        \n",
    "    "
   ]
  },
  {
   "cell_type": "markdown",
   "metadata": {},
   "source": [
    "# 3.\tWrite a Python program to find the area of a triangle?"
   ]
  },
  {
   "cell_type": "code",
   "execution_count": 3,
   "metadata": {},
   "outputs": [
    {
     "name": "stdout",
     "output_type": "stream",
     "text": [
      "25.0\n"
     ]
    }
   ],
   "source": [
    "def area_of_triangle(base,height):\n",
    "    \n",
    "    area = (base * height) /2\n",
    "    print(area)\n",
    "    \n",
    "    \n",
    "area_of_triangle(5,10)\n",
    "    "
   ]
  },
  {
   "cell_type": "markdown",
   "metadata": {},
   "source": [
    "# 4.\tWrite a Python program to swap two variables?"
   ]
  },
  {
   "cell_type": "code",
   "execution_count": 4,
   "metadata": {},
   "outputs": [
    {
     "name": "stdout",
     "output_type": "stream",
     "text": [
      "Enter first variable: ola\n",
      "Enter second variable: uber\n",
      "uber is in first variable ,ola in second variable after swaping values of given input\n"
     ]
    }
   ],
   "source": [
    "x = input('Enter first variable: ')\n",
    "y = input ('Enter second variable: ')\n",
    "\n",
    "temp = x\n",
    "x = y\n",
    "y = temp\n",
    "\n",
    "print(f\"{x} is in first variable ,{y} in second variable after swaping values of given input\")"
   ]
  },
  {
   "cell_type": "markdown",
   "metadata": {},
   "source": [
    "# 5.\tWrite a Python program to generate a random number?"
   ]
  },
  {
   "cell_type": "code",
   "execution_count": 5,
   "metadata": {},
   "outputs": [
    {
     "name": "stdout",
     "output_type": "stream",
     "text": [
      "0.9339763889706802\n"
     ]
    }
   ],
   "source": [
    "import random\n",
    "a = random.random()\n",
    "\n",
    "print(a)"
   ]
  },
  {
   "cell_type": "code",
   "execution_count": null,
   "metadata": {},
   "outputs": [],
   "source": []
  },
  {
   "cell_type": "code",
   "execution_count": null,
   "metadata": {},
   "outputs": [],
   "source": []
  }
 ],
 "metadata": {
  "kernelspec": {
   "display_name": "Python 3",
   "language": "python",
   "name": "python3"
  },
  "language_info": {
   "codemirror_mode": {
    "name": "ipython",
    "version": 3
   },
   "file_extension": ".py",
   "mimetype": "text/x-python",
   "name": "python",
   "nbconvert_exporter": "python",
   "pygments_lexer": "ipython3",
   "version": "3.8.3"
  }
 },
 "nbformat": 4,
 "nbformat_minor": 4
}
