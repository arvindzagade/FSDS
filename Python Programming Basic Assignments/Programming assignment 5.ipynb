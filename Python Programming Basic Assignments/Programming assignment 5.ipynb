{
 "cells": [
  {
   "cell_type": "markdown",
   "metadata": {},
   "source": [
    "1.\tWrite a Python Program to Find LCM?"
   ]
  },
  {
   "cell_type": "code",
   "execution_count": 1,
   "metadata": {},
   "outputs": [
    {
     "name": "stdout",
     "output_type": "stream",
     "text": [
      "Enter first number: 6\n",
      "Enter second number: 4\n",
      "The Lcm of 6 and  4 is 12\n"
     ]
    }
   ],
   "source": [
    "\n",
    "num1 = int(input('Enter first number: '))\n",
    "num2 = int(input('Enter second number: '))\n",
    "\n",
    "def find_lcm(x,y):\n",
    "    \n",
    "\n",
    "    \n",
    "    if x > y:\n",
    "        greater_num = x\n",
    "    else:\n",
    "        greater_num = y\n",
    "        \n",
    "    while True:\n",
    "        if((greater_num%x==0) and (greater_num %y==0)):\n",
    "            lcm = greater_num\n",
    "            \n",
    "            break\n",
    "        greater_num = greater_num + 1\n",
    "    return lcm\n",
    "\n",
    "print(f'The Lcm of {num1} and  {num2} is', find_lcm(num1,num2))"
   ]
  },
  {
   "cell_type": "markdown",
   "metadata": {},
   "source": [
    "2.\tWrite a Python Program to Find HCF?"
   ]
  },
  {
   "cell_type": "code",
   "execution_count": 2,
   "metadata": {},
   "outputs": [
    {
     "name": "stdout",
     "output_type": "stream",
     "text": [
      "Enter First number: 56\n",
      "Enter second number: 48\n",
      "The H.C.F. is 8\n"
     ]
    }
   ],
   "source": [
    "num1 = int(input('Enter First number: '))\n",
    "num2 = int(input('Enter second number: '))\n",
    "\n",
    "\n",
    "def compute_hcf(x, y):\n",
    "\n",
    "# choose the smaller number\n",
    "    if x > y:\n",
    "        smaller = y\n",
    "    else:\n",
    "        smaller = x\n",
    "    for i in range(1, smaller+1):\n",
    "        if((x % i == 0) and (y % i == 0)):\n",
    "            hcf = i \n",
    "    return hcf\n",
    "\n",
    "\n",
    "\n",
    "print(\"The H.C.F. is\", compute_hcf(num1, num2))"
   ]
  },
  {
   "cell_type": "markdown",
   "metadata": {},
   "source": [
    "3.\tWrite a Python Program to Convert Decimal to Binary, Octal and Hexadecimal?"
   ]
  },
  {
   "cell_type": "code",
   "execution_count": 4,
   "metadata": {},
   "outputs": [
    {
     "name": "stdout",
     "output_type": "stream",
     "text": [
      "Enter a number for conversion: 64\n",
      "The conversion of 64 in binary : 0b1000000,octal: 0o100,hexadecimal: 0x40\n"
     ]
    }
   ],
   "source": [
    "x = int(input('Enter a number for conversion: '))\n",
    "\n",
    "binary = bin(x)\n",
    "octal = oct(x)\n",
    "hexa = hex(x)\n",
    "\n",
    "print(f'The conversion of {x} in binary : {binary},octal: {octal},hexadecimal: {hexa}')"
   ]
  },
  {
   "cell_type": "markdown",
   "metadata": {},
   "source": [
    "4.\tWrite a Python Program To Find ASCII value of a character?1"
   ]
  },
  {
   "cell_type": "code",
   "execution_count": 5,
   "metadata": {},
   "outputs": [
    {
     "name": "stdout",
     "output_type": "stream",
     "text": [
      "Enter a number for conversion: B\n",
      "The ASCII value of 'B' is 66\n"
     ]
    }
   ],
   "source": [
    "x = input('Enter a number for conversion: ')\n",
    "\n",
    "print(\"The ASCII value of '\" + x + \"' is\", ord(x))"
   ]
  },
  {
   "cell_type": "markdown",
   "metadata": {},
   "source": [
    "5.\tWrite a Python Program to Make a Simple Calculator with 4 basic mathematical operations?"
   ]
  },
  {
   "cell_type": "code",
   "execution_count": 6,
   "metadata": {},
   "outputs": [
    {
     "name": "stdout",
     "output_type": "stream",
     "text": [
      "Enter first number: 45\n",
      "Enter second number: 95\n",
      "Select from:  mul , div, add, sub: mul\n"
     ]
    },
    {
     "data": {
      "text/plain": [
       "4275"
      ]
     },
     "execution_count": 6,
     "metadata": {},
     "output_type": "execute_result"
    }
   ],
   "source": [
    "\n",
    "\n",
    "def calculator(x,y,choice):\n",
    "    \n",
    "    if choice == 'add':\n",
    "        \n",
    "        return x +y\n",
    "    elif choice == 'sub':\n",
    "        return x - y\n",
    "    elif choice == 'mul':\n",
    "        return x * y\n",
    "    \n",
    "    elif choice == 'div':\n",
    "        return x/y\n",
    "    \n",
    "    else:\n",
    "        print('Please select valid operation')\n",
    "        \n",
    "num1 = int(input('Enter first number: '))\n",
    "num2 = int(input('Enter second number: '))\n",
    "\n",
    "choice = input('Select from:  mul , div, add, sub: ').lower()\n",
    "\n",
    "calculator(num1,num2,choice)"
   ]
  },
  {
   "cell_type": "code",
   "execution_count": null,
   "metadata": {},
   "outputs": [],
   "source": []
  },
  {
   "cell_type": "code",
   "execution_count": null,
   "metadata": {},
   "outputs": [],
   "source": []
  }
 ],
 "metadata": {
  "kernelspec": {
   "display_name": "Python 3",
   "language": "python",
   "name": "python3"
  },
  "language_info": {
   "codemirror_mode": {
    "name": "ipython",
    "version": 3
   },
   "file_extension": ".py",
   "mimetype": "text/x-python",
   "name": "python",
   "nbconvert_exporter": "python",
   "pygments_lexer": "ipython3",
   "version": "3.8.3"
  }
 },
 "nbformat": 4,
 "nbformat_minor": 4
}
