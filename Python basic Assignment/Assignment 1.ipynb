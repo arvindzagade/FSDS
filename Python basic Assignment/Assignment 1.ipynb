{
 "cells": [
  {
   "cell_type": "code",
   "execution_count": null,
   "metadata": {},
   "outputs": [],
   "source": [
    "1. In the below elements which of them are values or an expression? \n",
    "eg:- values can be integer or string and expressions will be mathematical operators.\n",
    "    \n",
    "    *     --> Expression\n",
    "'hello'   --> Value\n",
    "-87.8     --> Value\n",
    "-         --> Expression\n",
    "/         --> Expression\n",
    "+         --> Expression\n",
    "6         --> Value\n"
   ]
  },
  {
   "cell_type": "code",
   "execution_count": null,
   "metadata": {},
   "outputs": [],
   "source": [
    "2. What is the difference between string and variable?\n",
    "\n",
    "String is one of the data type available in python whereas variable is used to store value of any data type.. it is like\n",
    "a container which can be used to store any datatype.``"
   ]
  },
  {
   "cell_type": "code",
   "execution_count": null,
   "metadata": {},
   "outputs": [],
   "source": [
    "\n",
    "\\3. Describe three different data types.\n",
    "\n",
    "int --> This is in built data type in python used to store integer data\n",
    "\n",
    "bool --> bool is the premitive data type used to store boolean values 1 and 0\n",
    "\n",
    "list --> Its a premitive data type used to store different data.\n",
    "        list can contain int, bool ,string, complex num etc.\n",
    "    \n",
    "dict --> its also a premitive data type, having key value pair inside it.\n",
    "        eg. a = {'India':'Delhi','Uk':'London',\n",
    "                     'China':'Beijing'}.. where countries are keys and their captials are value in the given example"
   ]
  },
  {
   "cell_type": "code",
   "execution_count": null,
   "metadata": {},
   "outputs": [],
   "source": [
    "4. What is an expression made up of? What do all expressions do?\n",
    "\n",
    "\n",
    "Expression is combination of operators and operands which are used to produce the result.\n",
    "\n",
    "There are differnet operators like +,-,/,**,% etc.\n",
    "\n",
    "eg. x = 10+5.."
   ]
  },
  {
   "cell_type": "code",
   "execution_count": null,
   "metadata": {},
   "outputs": [],
   "source": [
    "5. This assignment statements, like spam = 10. What is the difference between an expression and a statement?\n",
    "\n",
    "\n",
    "Expression -> Expression is an instruction which return the a value of provided equation \n",
    "                eg. x = 10+5 will return 15 as a op.. This is example of expression\n",
    "\n",
    "Statement --> This are used to follow the sequence of any program\n",
    "                eg. if else,elif, for while these are statements in python"
   ]
  },
  {
   "cell_type": "code",
   "execution_count": null,
   "metadata": {},
   "outputs": [],
   "source": [
    "6. After running the following code, what does the variable bacon contain?\n",
    "\n",
    "bacon = 22\n",
    "bacon + 1\n",
    "\n",
    "bacon will contain value 23 "
   ]
  },
  {
   "cell_type": "code",
   "execution_count": null,
   "metadata": {},
   "outputs": [],
   "source": [
    "7. What should the values of the following two terms be?\n",
    "'spam' + 'spamspam' -- > This will be the addition of spam and spamspam --op is --> spamspamspam\n",
    "'spam' * 3 --> this will repeat spam 3 times \n",
    "\n",
    "so output of both the lines is \"spamspamspam'\"\n",
    "\n"
   ]
  },
  {
   "cell_type": "code",
   "execution_count": null,
   "metadata": {},
   "outputs": [],
   "source": [
    "8. Why is eggs a valid variable name while 100 is invalid?\n",
    "\n",
    "As per the convention in python we can select any string as variable but cant take any integer value as variable\n",
    "because python automatically assign its data type as int\n",
    "\n",
    "There are certain rules in python to assign a variable"
   ]
  },
  {
   "cell_type": "code",
   "execution_count": null,
   "metadata": {},
   "outputs": [],
   "source": [
    "9. What three functions can be used to get the integer, floating-point number, or string version of a value?\n",
    "\n",
    "\n",
    "int(), float() and str() functions we can directly used to get the integer,floating number and string version of value"
   ]
  },
  {
   "cell_type": "code",
   "execution_count": null,
   "metadata": {},
   "outputs": [],
   "source": [
    "10. Why does this expression cause an error? How can you fix it?\n",
    "'I have eaten ' + 99 + ' burritos.'\n",
    "\n",
    "Issue here is, we can not concatenate string with int inside python.\n",
    "so to do so we need to provide 99 in str "
   ]
  },
  {
   "cell_type": "code",
   "execution_count": null,
   "metadata": {},
   "outputs": [],
   "source": []
  },
  {
   "cell_type": "code",
   "execution_count": null,
   "metadata": {},
   "outputs": [],
   "source": []
  }
 ],
 "metadata": {
  "kernelspec": {
   "display_name": "Python 3",
   "language": "python",
   "name": "python3"
  },
  "language_info": {
   "codemirror_mode": {
    "name": "ipython",
    "version": 3
   },
   "file_extension": ".py",
   "mimetype": "text/x-python",
   "name": "python",
   "nbconvert_exporter": "python",
   "pygments_lexer": "ipython3",
   "version": "3.8.3"
  }
 },
 "nbformat": 4,
 "nbformat_minor": 4
}
