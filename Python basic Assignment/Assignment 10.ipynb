{
 "cells": [
  {
   "cell_type": "markdown",
   "metadata": {},
   "source": [
    "1. How do you distinguish between shutil.copy() and shutil.copytree()?"
   ]
  },
  {
   "cell_type": "code",
   "execution_count": 1,
   "metadata": {},
   "outputs": [],
   "source": [
    "Basically the shutil.copy() copy the single file where as the shutil.copytree() copy the entire folder and\n",
    "all the files available inside those folders."
   ]
  },
  {
   "cell_type": "markdown",
   "metadata": {},
   "source": [
    "2. What function is used to rename files??"
   ]
  },
  {
   "cell_type": "code",
   "execution_count": null,
   "metadata": {},
   "outputs": [],
   "source": [
    "By using the Os.rename we can rename the files"
   ]
  },
  {
   "cell_type": "markdown",
   "metadata": {},
   "source": [
    "3. What is the difference between the delete functions in the send2trash and shutil modules?"
   ]
  },
  {
   "cell_type": "code",
   "execution_count": null,
   "metadata": {},
   "outputs": [],
   "source": [
    "The send2trash delete the files but those files are moved to the recycle bin while by using the shutil mode the files\n",
    "is permanantly deleted"
   ]
  },
  {
   "cell_type": "markdown",
   "metadata": {},
   "source": [
    "4.ZipFile objects have a close() method just like File objects’ close() method. What ZipFile method is equivalent to File objects’ open() method?"
   ]
  },
  {
   "cell_type": "code",
   "execution_count": null,
   "metadata": {},
   "outputs": [],
   "source": [
    "we can use zipfile.ZipFile() function which is basically equivalent to the open() function"
   ]
  },
  {
   "cell_type": "markdown",
   "metadata": {},
   "source": [
    "5. Create a programme that searches a folder tree for files with a certain file extension (such as .pdf or .jpg). Copy these files from whatever location they are in to a new folder."
   ]
  },
  {
   "cell_type": "code",
   "execution_count": 2,
   "metadata": {},
   "outputs": [
    {
     "name": "stdout",
     "output_type": "stream",
     "text": [
      "Looking in C:\\Users\\Arvind\\Desktop\\I_Neuron\\FSDS\\Python\\Assignments\\Python basic Assignment\\src for files with extensions of .jpg, .pdf\n",
      "Coping C:\\Users\\Arvind\\Desktop\\I_Neuron\\FSDS\\Python\\Assignments\\Python basic Assignment\\src\\matt-wang-4t5IhN_ZGQ8-unsplash.jpg to C:\\Users\\Arvind\\Desktop\\I_Neuron\\FSDS\\Python\\Assignments\\Python basic Assignment\\dest\n",
      "Coping C:\\Users\\Arvind\\Desktop\\I_Neuron\\FSDS\\Python\\Assignments\\Python basic Assignment\\src\\Resume (37).pdf to C:\\Users\\Arvind\\Desktop\\I_Neuron\\FSDS\\Python\\Assignments\\Python basic Assignment\\dest\n"
     ]
    }
   ],
   "source": [
    "import os, shutil\n",
    "\n",
    "def selectiveCopy(folder, extensions, destFolder):\n",
    "    folder = os.path.abspath(folder)\n",
    "    destFolder = os.path.abspath(destFolder)\n",
    "    print('Looking in', folder, 'for files with extensions of', ', '.join(extensions))\n",
    "    for foldername, subfolders, filenames in os.walk(folder):\n",
    "        for filename in filenames:\n",
    "            name, extension = os.path.splitext(filename)\n",
    "            if extension in extensions:\n",
    "                fileAbsPath = foldername + os.path.sep + filename\n",
    "                print('Coping', fileAbsPath, 'to', destFolder)\n",
    "                shutil.copy(fileAbsPath, destFolder)\n",
    "\n",
    "extensions = ['.jpg','.pdf']\n",
    "folder = 'src'\n",
    "destFolder = 'dest'\n",
    "selectiveCopy(folder, extensions, destFolder)"
   ]
  },
  {
   "cell_type": "code",
   "execution_count": null,
   "metadata": {},
   "outputs": [],
   "source": []
  },
  {
   "cell_type": "raw",
   "metadata": {},
   "source": [
    "l = [10,20,30,40,50]\n",
    "\n",
    "l1= []\n",
    "\n",
    "for i in range(len(l),-1,1):\n",
    "    l1.append(l[i])"
   ]
  },
  {
   "cell_type": "raw",
   "metadata": {},
   "source": [
    "l1"
   ]
  },
  {
   "cell_type": "raw",
   "metadata": {},
   "source": [
    "range(len(l),1,-1)"
   ]
  },
  {
   "cell_type": "raw",
   "metadata": {},
   "source": [
    "for i in range(len(l)-1,-1,-1):\n",
    "    print(l[i])\n",
    "    l1.append(l[i])\n",
    "    \n",
    "l1"
   ]
  },
  {
   "cell_type": "raw",
   "metadata": {},
   "source": [
    "l"
   ]
  },
  {
   "cell_type": "raw",
   "metadata": {},
   "source": [
    "l = [10, 20, 30, 40, 50]\n",
    "l[:-2:-1]"
   ]
  },
  {
   "cell_type": "raw",
   "metadata": {},
   "source": [
    "l[:2:-1]"
   ]
  },
  {
   "cell_type": "raw",
   "metadata": {},
   "source": [
    "n= int(input('Enter no.'))\n",
    "while n <4:\n",
    "    \n",
    "    l2= []\n",
    "    l2.append(n)\n",
    "l2\n",
    "# if num in n:\n",
    "#     print(num)\n"
   ]
  },
  {
   "cell_type": "code",
   "execution_count": null,
   "metadata": {},
   "outputs": [],
   "source": []
  }
 ],
 "metadata": {
  "kernelspec": {
   "display_name": "Python 3",
   "language": "python",
   "name": "python3"
  },
  "language_info": {
   "codemirror_mode": {
    "name": "ipython",
    "version": 3
   },
   "file_extension": ".py",
   "mimetype": "text/x-python",
   "name": "python",
   "nbconvert_exporter": "python",
   "pygments_lexer": "ipython3",
   "version": "3.8.3"
  }
 },
 "nbformat": 4,
 "nbformat_minor": 4
}
