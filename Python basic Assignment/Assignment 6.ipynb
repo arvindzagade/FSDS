{
 "cells": [
  {
   "cell_type": "code",
   "execution_count": null,
   "metadata": {},
   "outputs": [],
   "source": [
    "1. What are escape characters, and how do you use them?\n",
    "--> In python backslash \"/\" is used as a escape character\n",
    "Those characters are used to skip space or to add new line like '/t' for tab and '/n' for new line"
   ]
  },
  {
   "cell_type": "code",
   "execution_count": null,
   "metadata": {},
   "outputs": [],
   "source": [
    "2. What do the escape characters n and t stand for?\n",
    "-> escape character n is used for new line while escape character t is used for 4 space"
   ]
  },
  {
   "cell_type": "code",
   "execution_count": null,
   "metadata": {},
   "outputs": [],
   "source": [
    "3. What is the way to include backslash characters in a string?\n",
    "--> \"\\\\\" escape character we can add"
   ]
  },
  {
   "cell_type": "code",
   "execution_count": null,
   "metadata": {},
   "outputs": [],
   "source": [
    "4. The string \"Howl's Moving Castle\" is a correct value.\n",
    "Why isn't the single quote character in the word Howl's not escaped a problem?\n",
    "--> The single line Howl is fine beacuse we have used double quote at beginning of sentence\n",
    "but for second line we have used single qoute so it all the characters between those single character \n",
    "is considered as string"
   ]
  },
  {
   "cell_type": "code",
   "execution_count": null,
   "metadata": {},
   "outputs": [],
   "source": [
    "5. How do you write a string of newlines if you don't want to use the n character?\n",
    "--> Multiline string allows us to write string on new line without using \\n"
   ]
  },
  {
   "cell_type": "code",
   "execution_count": null,
   "metadata": {},
   "outputs": [],
   "source": [
    "6. What are the values of the given expressions?\n",
    "'Hello, world!'[1]\n",
    "-->'e'\n",
    "\n",
    "'Hello, world!'[0:5]\n",
    "--> 'Hello'\n",
    "\n",
    "'Hello, world!'[:5]\n",
    "-->'Hello'\n",
    "\n",
    "'Hello, world!'[3:]\n",
    "\n",
    "-->'lo, world!'\n"
   ]
  },
  {
   "cell_type": "code",
   "execution_count": null,
   "metadata": {},
   "outputs": [],
   "source": [
    "7. What are the values of the following expressions?\n",
    "'Hello'.upper()\n",
    "--> 'HELLO'\n",
    "\n",
    "'Hello'.upper().isupper()\n",
    "--> True\n",
    "\n",
    "'Hello'.upper().lower()\n",
    "--> 'hello'\n"
   ]
  },
  {
   "cell_type": "code",
   "execution_count": null,
   "metadata": {},
   "outputs": [],
   "source": [
    "8. What are the values of the following expressions?\n",
    "'Remember, remember, the fifth of July.'.split()\n",
    "\n",
    "---> List as a op ['Remember,', 'remember,', 'the', 'fifth', 'of', 'July.']\n",
    "\n",
    "\n",
    "'-'.join('There can only one.'.split())\n",
    "--> 'There-can-only-one.'"
   ]
  },
  {
   "cell_type": "code",
   "execution_count": null,
   "metadata": {},
   "outputs": [],
   "source": [
    "9. What are the methods for right-justifying, left-justifying, and centering a string?\n",
    "---> rjust(),ljust() and center() string methods we can use respectively\n"
   ]
  },
  {
   "cell_type": "code",
   "execution_count": null,
   "metadata": {},
   "outputs": [],
   "source": [
    "10. What is the best way to remove whitespace characters from the start or end?\n",
    "--> The lstrip() and rstrip() methods remove whitespace from the left and right ends of a string, respectively."
   ]
  },
  {
   "cell_type": "code",
   "execution_count": null,
   "metadata": {},
   "outputs": [],
   "source": []
  }
 ],
 "metadata": {
  "kernelspec": {
   "display_name": "Python 3",
   "language": "python",
   "name": "python3"
  },
  "language_info": {
   "codemirror_mode": {
    "name": "ipython",
    "version": 3
   },
   "file_extension": ".py",
   "mimetype": "text/x-python",
   "name": "python",
   "nbconvert_exporter": "python",
   "pygments_lexer": "ipython3",
   "version": "3.8.3"
  }
 },
 "nbformat": 4,
 "nbformat_minor": 4
}
