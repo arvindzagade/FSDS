{
 "cells": [
  {
   "cell_type": "markdown",
   "id": "fc2bd925",
   "metadata": {},
   "source": [
    "#### 1. Add the current date to the text file today.txt as a string."
   ]
  },
  {
   "cell_type": "raw",
   "id": "d6857d11",
   "metadata": {},
   "source": [
    "import datetime\n",
    "\n",
    "with open('today.txt','w+') as f:\n",
    "    f.write(datetime.datetime.now().strftime(\"%d-%m-%Y\"))\n",
    "    f.close()\n",
    "    \n",
    "with open('today.txt','r+') as f:\n",
    "    print(f.read())\n",
    "    f.close()"
   ]
  },
  {
   "cell_type": "code",
   "execution_count": 5,
   "id": "6b416320",
   "metadata": {},
   "outputs": [
    {
     "data": {
      "text/plain": [
       "'2022-08-29'"
      ]
     },
     "execution_count": 5,
     "metadata": {},
     "output_type": "execute_result"
    }
   ],
   "source": [
    "import datetime\n",
    "from datetime import date\n",
    "now = date.today()\n",
    "current_date = now.isoformat()\n",
    "current_date"
   ]
  },
  {
   "cell_type": "code",
   "execution_count": 6,
   "id": "8ce97495",
   "metadata": {},
   "outputs": [],
   "source": [
    "with open('today.txt','w+') as f:\n",
    "    f.write(current_date)"
   ]
  },
  {
   "cell_type": "markdown",
   "id": "42830c16",
   "metadata": {},
   "source": [
    "#### 2. Read the text file today.txt into the string today_string"
   ]
  },
  {
   "cell_type": "code",
   "execution_count": 9,
   "id": "43c52d86",
   "metadata": {},
   "outputs": [
    {
     "name": "stdout",
     "output_type": "stream",
     "text": [
      "2022-08-29\n"
     ]
    }
   ],
   "source": [
    "file = open('today.txt','r+')\n",
    "today_string = str(file.read())\n",
    "print(today_string)"
   ]
  },
  {
   "cell_type": "markdown",
   "id": "aa9861f4",
   "metadata": {},
   "source": [
    "#### 3. Parse the date from today_string."
   ]
  },
  {
   "cell_type": "code",
   "execution_count": 11,
   "id": "a5fbf24a",
   "metadata": {},
   "outputs": [
    {
     "data": {
      "text/plain": [
       "datetime.datetime(2022, 8, 29, 0, 0)"
      ]
     },
     "execution_count": 11,
     "metadata": {},
     "output_type": "execute_result"
    }
   ],
   "source": [
    "from datetime import datetime\n",
    "format = '%Y-%m-%d'\n",
    "datetime.strptime(today_string,format)"
   ]
  },
  {
   "cell_type": "markdown",
   "id": "9da10bf2",
   "metadata": {},
   "source": [
    "#### 4. List the files in your current directory"
   ]
  },
  {
   "cell_type": "code",
   "execution_count": 12,
   "id": "b99fce31",
   "metadata": {
    "scrolled": true
   },
   "outputs": [
    {
     "name": "stdout",
     "output_type": "stream",
     "text": [
      "16.Assignment 16.ipynb\n",
      "17.Assignment_17.ipynb\n",
      "18.Assignment_18.ipynb\n",
      "19.Assignment_19.ipynb\n",
      "20.Assignment_20.ipynb\n",
      "21.Assignment 21.ipynb\n",
      "Assignment 1.ipynb\n",
      "Assignment 10.ipynb\n",
      "Assignment 2.ipynb\n",
      "Assignment 3.ipynb\n",
      "Assignment 4.ipynb\n",
      "Assignment 5.ipynb\n",
      "Assignment 6.ipynb\n",
      "Assignment 7.ipynb\n",
      "Assignment 8.ipynb\n",
      "Assignment 9.ipynb\n",
      "Assignment_1.docx\n",
      "Assignment_10.docx\n",
      "Assignment_11.docx\n",
      "Assignment_12.docx\n",
      "Assignment_13.docx\n",
      "Assignment_14.docx\n",
      "Assignment_15.docx\n",
      "Assignment_16.docx\n",
      "Assignment_17.docx\n",
      "Assignment_18.docx\n",
      "Assignment_19.docx\n",
      "Assignment_2.docx\n",
      "Assignment_20.docx\n",
      "Assignment_21.docx\n",
      "Assignment_22.docx\n",
      "Assignment_23.docx\n",
      "Assignment_24.docx\n",
      "Assignment_25.docx\n",
      "Assignment_3.docx\n",
      "Assignment_4.docx\n",
      "Assignment_5.docx\n",
      "Assignment_6.docx\n",
      "Assignment_7.docx\n",
      "Assignment_8.docx\n",
      "Assignment_9.docx\n",
      "books.csv\n",
      "books.db\n",
      "programs.ipynb\n",
      "test.txt\n",
      "today.txt\n",
      "Untitled.ipynb\n",
      "zoo.py\n",
      "16.Assignment 16-checkpoint.ipynb\n",
      "17.Assignment_17-checkpoint.ipynb\n",
      "18.Assignment_18-checkpoint.ipynb\n",
      "19.Assignment_19-checkpoint.ipynb\n",
      "20.Assignment_20-checkpoint.ipynb\n",
      "21.Assignment 21-checkpoint.ipynb\n",
      "Assignment 10-checkpoint.ipynb\n",
      "Assignment 2-checkpoint.ipynb\n",
      "Assignment 3-checkpoint.ipynb\n",
      "Assignment 4-checkpoint.ipynb\n",
      "Assignment 5-checkpoint.ipynb\n",
      "Assignment 6-checkpoint.ipynb\n",
      "Assignment 7-checkpoint.ipynb\n",
      "Assignment 8-checkpoint.ipynb\n",
      "Assignment 9-checkpoint.ipynb\n",
      "programs-checkpoint.ipynb\n",
      "Untitled-checkpoint.ipynb\n",
      "matt-wang-4t5IhN_ZGQ8-unsplash.jpg\n",
      "Resume (37).pdf\n",
      "matt-wang-4t5IhN_ZGQ8-unsplash.jpg\n",
      "Resume (37).pdf\n",
      "zoo.cpython-39.pyc\n"
     ]
    }
   ],
   "source": [
    "import os\n",
    "for folders, subfolders, files in os.walk(os.getcwd()):\n",
    "    for file in files:\n",
    "        print(file)\n",
    "        \n",
    "\n",
    "#os.listdir('.')"
   ]
  },
  {
   "cell_type": "markdown",
   "id": "726aab89",
   "metadata": {},
   "source": [
    "#### 5. Create a list of all of the files in your parent directory (minimum five files should be available)."
   ]
  },
  {
   "cell_type": "code",
   "execution_count": 13,
   "id": "1b62b866",
   "metadata": {
    "scrolled": true
   },
   "outputs": [
    {
     "data": {
      "text/plain": [
       "['.ipynb_checkpoints',\n",
       " '16.Assignment 16.ipynb',\n",
       " '17.Assignment_17.ipynb',\n",
       " '18.Assignment_18.ipynb',\n",
       " '19.Assignment_19.ipynb',\n",
       " '20.Assignment_20.ipynb',\n",
       " '21.Assignment 21.ipynb',\n",
       " 'Assignment 1.ipynb',\n",
       " 'Assignment 10.ipynb',\n",
       " 'Assignment 2.ipynb',\n",
       " 'Assignment 3.ipynb',\n",
       " 'Assignment 4.ipynb',\n",
       " 'Assignment 5.ipynb',\n",
       " 'Assignment 6.ipynb',\n",
       " 'Assignment 7.ipynb',\n",
       " 'Assignment 8.ipynb',\n",
       " 'Assignment 9.ipynb',\n",
       " 'Assignment_1.docx',\n",
       " 'Assignment_10.docx',\n",
       " 'Assignment_11.docx',\n",
       " 'Assignment_12.docx',\n",
       " 'Assignment_13.docx',\n",
       " 'Assignment_14.docx',\n",
       " 'Assignment_15.docx',\n",
       " 'Assignment_16.docx',\n",
       " 'Assignment_17.docx',\n",
       " 'Assignment_18.docx',\n",
       " 'Assignment_19.docx',\n",
       " 'Assignment_2.docx',\n",
       " 'Assignment_20.docx',\n",
       " 'Assignment_21.docx',\n",
       " 'Assignment_22.docx',\n",
       " 'Assignment_23.docx',\n",
       " 'Assignment_24.docx',\n",
       " 'Assignment_25.docx',\n",
       " 'Assignment_3.docx',\n",
       " 'Assignment_4.docx',\n",
       " 'Assignment_5.docx',\n",
       " 'Assignment_6.docx',\n",
       " 'Assignment_7.docx',\n",
       " 'Assignment_8.docx',\n",
       " 'Assignment_9.docx',\n",
       " 'books.csv',\n",
       " 'books.db',\n",
       " 'dest',\n",
       " 'programs.ipynb',\n",
       " 'src',\n",
       " 'test.txt',\n",
       " 'today.txt',\n",
       " 'Untitled.ipynb',\n",
       " 'zoo.py',\n",
       " '__pycache__']"
      ]
     },
     "execution_count": 13,
     "metadata": {},
     "output_type": "execute_result"
    }
   ],
   "source": [
    "import os\n",
    "os.listdir()"
   ]
  },
  {
   "cell_type": "markdown",
   "id": "c8400892",
   "metadata": {},
   "source": [
    "#### 6. Use multiprocessing to create three separate processes. Make each one wait a random number of seconds between one and five, print the current time, and then exit."
   ]
  },
  {
   "cell_type": "code",
   "execution_count": 18,
   "id": "a0c0971d",
   "metadata": {},
   "outputs": [],
   "source": [
    "import multiprocessing\n",
    "\n",
    "def printtime(seconds):\n",
    "    from datetime import datetime\n",
    "    from time import sleep\n",
    "    sleep(seconds)\n",
    "    print('wait', seconds, 'seconds, time is', datetime.utcnow())\n",
    "    \n",
    "if __name__ == '__main__':\n",
    "    import random    \n",
    "    for n in range(3):\n",
    "        seconds = random.random()\n",
    "        proc = multiprocessing.Process(target=printtime, args=(seconds,))\n",
    "        proc.start()"
   ]
  },
  {
   "cell_type": "code",
   "execution_count": 19,
   "id": "98cbe33e",
   "metadata": {},
   "outputs": [
    {
     "name": "stdout",
     "output_type": "stream",
     "text": [
      "wait 0.3077246854849234 seconds, time is 2022-08-29 17:37:15.833446\n",
      "wait 0.5685008322313875 seconds, time is 2022-08-29 17:37:16.084393\n",
      "wait 0.6116685613953318 seconds, time is 2022-08-29 17:37:16.130014\n"
     ]
    }
   ],
   "source": [
    "!python time.py"
   ]
  },
  {
   "cell_type": "markdown",
   "id": "90791fd6",
   "metadata": {},
   "source": [
    "#### 7.Create a date object of your day of birth."
   ]
  },
  {
   "cell_type": "code",
   "execution_count": 20,
   "id": "3043bdad",
   "metadata": {},
   "outputs": [
    {
     "name": "stdout",
     "output_type": "stream",
     "text": [
      "1995-02-25 00:00:00 <class 'datetime.datetime'>\n"
     ]
    }
   ],
   "source": [
    "from datetime import datetime\n",
    "my_dob = datetime.strptime('25/02/1995','%d/%m/%Y')\n",
    "print(my_dob, type(my_dob))"
   ]
  },
  {
   "cell_type": "markdown",
   "id": "91053120",
   "metadata": {},
   "source": [
    "#### 8. What day of the week was your day of birth?"
   ]
  },
  {
   "cell_type": "code",
   "execution_count": 21,
   "id": "d5698cd8",
   "metadata": {},
   "outputs": [
    {
     "data": {
      "text/plain": [
       "'Saturday'"
      ]
     },
     "execution_count": 21,
     "metadata": {},
     "output_type": "execute_result"
    }
   ],
   "source": [
    "from datetime import datetime\n",
    "my_dob = datetime(1995,2,25)\n",
    "my_dob.strftime(\"%A\")"
   ]
  },
  {
   "cell_type": "markdown",
   "id": "aae44627",
   "metadata": {},
   "source": [
    "#### 9. When will you be (or when were you) 10,000 days old?"
   ]
  },
  {
   "cell_type": "code",
   "execution_count": 23,
   "id": "eda9867e",
   "metadata": {},
   "outputs": [
    {
     "data": {
      "text/plain": [
       "datetime.datetime(2022, 7, 13, 0, 0)"
      ]
     },
     "execution_count": 23,
     "metadata": {},
     "output_type": "execute_result"
    }
   ],
   "source": [
    "from datetime import datetime, timedelta\n",
    "my_dob = datetime.strptime(\"25/02/1995\",'%d/%m/%Y')\n",
    "future_date = my_dob+timedelta(10000)\n",
    "future_date"
   ]
  },
  {
   "cell_type": "code",
   "execution_count": null,
   "id": "730ea820",
   "metadata": {},
   "outputs": [],
   "source": []
  }
 ],
 "metadata": {
  "kernelspec": {
   "display_name": "Python 3 (ipykernel)",
   "language": "python",
   "name": "python3"
  },
  "language_info": {
   "codemirror_mode": {
    "name": "ipython",
    "version": 3
   },
   "file_extension": ".py",
   "mimetype": "text/x-python",
   "name": "python",
   "nbconvert_exporter": "python",
   "pygments_lexer": "ipython3",
   "version": "3.10.5"
  }
 },
 "nbformat": 4,
 "nbformat_minor": 5
}
